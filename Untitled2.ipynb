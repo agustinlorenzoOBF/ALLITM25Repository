{
 "cells": [
  {
   "cell_type": "code",
   "execution_count": 23,
   "id": "56dbbfac-ae3b-4a3a-8238-0d2dbc23e46b",
   "metadata": {},
   "outputs": [],
   "source": [
    "def shift_letter(letter, shift):\n",
    "  num_letter = ord(letter)\n",
    "  total = shift + num_letter\n",
    "  max = 90\n",
    "  if letter == \" \":\n",
    "    return \" \"\n",
    "  else:\n",
    "    if total > max:\n",
    "      remainder = int(total - 90 + 65)\n",
    "      new_letter = (chr(remainder-1))\n",
    "      return(new_letter)\n",
    "    else:\n",
    "      new_letter = chr(num_letter+shift)\n",
    "      return (new_letter)\n",
    "    "
   ]
  },
  {
   "cell_type": "code",
   "execution_count": 24,
   "id": "7a6d5fdf-4355-4504-a49a-c6b3e2740cd3",
   "metadata": {},
   "outputs": [
    {
     "data": {
      "text/plain": [
       "'X'"
      ]
     },
     "execution_count": 24,
     "metadata": {},
     "output_type": "execute_result"
    }
   ],
   "source": [
    "shift_letter(\"H\", 16)"
   ]
  },
  {
   "cell_type": "code",
   "execution_count": 26,
   "id": "40aeec95-c22a-4df3-a9df-65eb262cffe3",
   "metadata": {},
   "outputs": [],
   "source": [
    "def caesar_cipher(message, shift):\n",
    "  list=[]\n",
    "  for i in message:\n",
    "      list.append(i)\n",
    "  new=[]\n",
    "  for i in list:\n",
    "    num_letter = ord(i)\n",
    "    total = shift + num_letter\n",
    "    max = 90\n",
    "    if i == \" \" or \"_\":\n",
    "      new.append(\" \")\n",
    "    else:\n",
    "      if total > max:\n",
    "        remainder = int(total - 90 + 65)\n",
    "        new_letter = (chr(remainder-1))\n",
    "        new.append(new_letter)\n",
    "      else:\n",
    "        new_letter = chr(num_letter+shift)\n",
    "        new.append(new_letter)\n",
    "    c_cipher =\"\"\n",
    "    c_cipher =c_cipher.join(new)\n",
    "  return(c_cipher)"
   ]
  },
  {
   "cell_type": "code",
   "execution_count": 27,
   "id": "562d71b7-1188-45b1-9fe0-f73a913c52bc",
   "metadata": {},
   "outputs": [
    {
     "data": {
      "text/plain": [
       "'       '"
      ]
     },
     "execution_count": 27,
     "metadata": {},
     "output_type": "execute_result"
    }
   ],
   "source": [
    "caesar_cipher( \"alskdfh\", 1)"
   ]
  },
  {
   "cell_type": "code",
   "execution_count": null,
   "id": "f112dc66-8119-4214-a3f0-90e1f556b82e",
   "metadata": {},
   "outputs": [],
   "source": []
  }
 ],
 "metadata": {
  "kernelspec": {
   "display_name": "Python 3 (ipykernel)",
   "language": "python",
   "name": "python3"
  },
  "language_info": {
   "codemirror_mode": {
    "name": "ipython",
    "version": 3
   },
   "file_extension": ".py",
   "mimetype": "text/x-python",
   "name": "python",
   "nbconvert_exporter": "python",
   "pygments_lexer": "ipython3",
   "version": "3.9.12"
  }
 },
 "nbformat": 4,
 "nbformat_minor": 5
}
